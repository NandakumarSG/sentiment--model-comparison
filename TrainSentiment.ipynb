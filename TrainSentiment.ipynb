{
  "nbformat": 4,
  "nbformat_minor": 0,
  "metadata": {
    "colab": {
      "name": "TrainSentiment.ipynb",
      "version": "0.3.2",
      "provenance": [],
      "collapsed_sections": [],
      "include_colab_link": true
    },
    "kernelspec": {
      "name": "python3",
      "display_name": "Python 3"
    }
  },
  "cells": [
    {
      "cell_type": "markdown",
      "metadata": {
        "id": "view-in-github",
        "colab_type": "text"
      },
      "source": [
        "[View in Colaboratory](https://colab.research.google.com/github/NandakumarSG/sentiment--model-comparison/blob/edit-readme/TrainSentiment.ipynb)"
      ]
    },
    {
      "metadata": {
        "id": "GB3HG4YLttCS",
        "colab_type": "code",
        "colab": {
          "base_uri": "https://localhost:8080/",
          "height": 0
        },
        "outputId": "5793c7f7-0b07-40d5-fac4-a4bcc6a5c642"
      },
      "cell_type": "code",
      "source": [
        "#importing all the necessary libraries\n",
        "import pandas as pd\n",
        "import numpy as np\n",
        "import nltk\n",
        "from nltk.corpus import stopwords\n",
        "%matplotlib inline\n",
        "import string\n",
        "from sklearn.feature_extraction.text import CountVectorizer\n",
        "from sklearn.model_selection import train_test_split\n",
        "from sklearn.naive_bayes import MultinomialNB\n",
        "from sklearn.metrics import confusion_matrix, classification_report\n",
      ],
      "execution_count": 2,
      "outputs": []
    },
    {
      "metadata": {
        "id": "c6yT3nIVrJU-",
        "colab_type": "text"
      },
      "cell_type": "markdown",
      "source": [
        "Downloading the yelp dataset. I used a shortened url of the dataset available in kaggle. The dataset is the mirror of the original yelp dataset."
      ]
    },
    {
      "metadata": {
        "id": "_2RgH_rH7Rwn",
        "colab_type": "code",
        "colab": {
          "base_uri": "https://localhost:8080/",
          "height": 315
        },
        "outputId": "ae01e0fb-6bbe-41b4-d45c-2514e4c75d09"
      },
      "cell_type": "code",
      "source": [
        "!wget https://bit.ly/2I8MELW"
      ],
      "execution_count": 3,
      "outputs": [
        {
          "output_type": "stream",
          "text": [
            "--2018-06-22 08:56:09--  https://bit.ly/2I8MELW\r\n",
            "Resolving bit.ly (bit.ly)... 67.199.248.10, 67.199.248.11\n",
            "Connecting to bit.ly (bit.ly)|67.199.248.10|:443... connected.\n",
            "HTTP request sent, awaiting response... 301 Moved Permanently\n",
            "Location: https://storage.googleapis.com/kaggle-datasets/10100/16731/yelp-dataset.zip?GoogleAccessId=web-data@kaggle-161607.iam.gserviceaccount.com&Expires=1529830999&Signature=d78rSa5IyAVAAVe63oxD7FRMlm/TMsspNsIyVP8/ARkO9ZBDafvYOMLbKitvgeksYc2tcacAgokszec90uPXxMqH75/RkTylG3R3a4q2/qZNgJxGDM6w8zKLqAASIDA1FWqvf1q63MY/x09PQxH1LHTdFhe5YigAKL7c5S7RW0chI7OHSjvF2m4m6oenl4UoMvonJyteLVR4t2tGLooTobGg0WFsAalex%2Bfug7a%2B99iTnE4uMOPPkKCIp14vv41lFxXYC/aeE6usKA6uYG%2Bn0ZtGSVQEt4s%2BmD%2BGV1oWonC70KUp/paeDEl6C4y7o4cBlLysQvVoWTCRXbkjBpVG6Q%3D%3D [following]\n",
            "--2018-06-22 08:56:09--  https://storage.googleapis.com/kaggle-datasets/10100/16731/yelp-dataset.zip?GoogleAccessId=web-data@kaggle-161607.iam.gserviceaccount.com&Expires=1529830999&Signature=d78rSa5IyAVAAVe63oxD7FRMlm/TMsspNsIyVP8/ARkO9ZBDafvYOMLbKitvgeksYc2tcacAgokszec90uPXxMqH75/RkTylG3R3a4q2/qZNgJxGDM6w8zKLqAASIDA1FWqvf1q63MY/x09PQxH1LHTdFhe5YigAKL7c5S7RW0chI7OHSjvF2m4m6oenl4UoMvonJyteLVR4t2tGLooTobGg0WFsAalex%2Bfug7a%2B99iTnE4uMOPPkKCIp14vv41lFxXYC/aeE6usKA6uYG%2Bn0ZtGSVQEt4s%2BmD%2BGV1oWonC70KUp/paeDEl6C4y7o4cBlLysQvVoWTCRXbkjBpVG6Q%3D%3D\n",
            "Resolving storage.googleapis.com (storage.googleapis.com)... 74.125.141.128, 2607:f8b0:400c:c06::80\n",
            "Connecting to storage.googleapis.com (storage.googleapis.com)|74.125.141.128|:443... connected.\n",
            "HTTP request sent, awaiting response... 200 OK\n",
            "Length: 2693840057 (2.5G) [application/zip]\n",
            "Saving to: ‘2I8MELW’\n",
            "\n",
            "2I8MELW              57%[==========>         ]   1.44G  98.4MB/s    eta 8s     "
          ],
          "name": "stdout"
        },
        {
          "output_type": "stream",
          "text": [
            "2I8MELW             100%[===================>]   2.51G  31.3MB/s    in 58s     \n",
            "\n",
            "2018-06-22 08:57:07 (44.4 MB/s) - ‘2I8MELW’ saved [2693840057/2693840057]\n",
            "\n"
          ],
          "name": "stdout"
        }
      ]
    },
    {
      "metadata": {
        "id": "H6zC2rdB7gVX",
        "colab_type": "code",
        "colab": {
          "base_uri": "https://localhost:8080/",
          "height": 156
        },
        "outputId": "88ed59ce-0af9-4870-f120-628560f22fc0"
      },
      "cell_type": "code",
      "source": [
        "!unzip 2I8MELW"
      ],
      "execution_count": 4,
      "outputs": [
        {
          "output_type": "stream",
          "text": [
            "Archive:  2I8MELW\n",
            "  inflating: yelp_business.csv       \n",
            "  inflating: yelp_checkin.csv        \n",
            "  inflating: Dataset_Challenge_Dataset_Agreement.pdf  \n",
            "  inflating: yelp_tip.csv            \n",
            "  inflating: yelp_business_attributes.csv  \n",
            "  inflating: yelp_review.csv         \n",
            "  inflating: yelp_user.csv           ^C\n"
          ],
          "name": "stdout"
        }
      ]
    },
    {
      "metadata": {
        "id": "RCd80mSRBVx9",
        "colab_type": "code",
        "colab": {
          "base_uri": "https://localhost:8080/",
          "height": 1007
        },
        "outputId": "50d6f047-ee33-4b66-d74d-b27156d349b1"
      },
      "cell_type": "code",
      "source": [
        "nltk.download()#downloading stopwords. d=>Identifier==>popular should do the trick"
      ],
      "execution_count": 5,
      "outputs": [
        {
          "output_type": "stream",
          "text": [
            "NLTK Downloader\n",
            "---------------------------------------------------------------------------\n",
            "    d) Download   l) List    u) Update   c) Config   h) Help   q) Quit\n",
            "---------------------------------------------------------------------------\n",
            "Downloader> d\n",
            "\n",
            "Download which package (l=list; x=cancel)?\n",
            "  Identifier> popular\n",
            "    Downloading collection 'popular'\n",
            "       | \n",
            "       | Downloading package cmudict to /content/nltk_data...\n",
            "       |   Unzipping corpora/cmudict.zip.\n",
            "       | Downloading package gazetteers to /content/nltk_data...\n",
            "       |   Unzipping corpora/gazetteers.zip.\n",
            "       | Downloading package genesis to /content/nltk_data...\n",
            "       |   Unzipping corpora/genesis.zip.\n",
            "       | Downloading package gutenberg to /content/nltk_data...\n",
            "       |   Unzipping corpora/gutenberg.zip.\n",
            "       | Downloading package inaugural to /content/nltk_data...\n",
            "       |   Unzipping corpora/inaugural.zip.\n",
            "       | Downloading package movie_reviews to /content/nltk_data...\n",
            "       |   Unzipping corpora/movie_reviews.zip.\n",
            "       | Downloading package names to /content/nltk_data...\n",
            "       |   Unzipping corpora/names.zip.\n",
            "       | Downloading package shakespeare to /content/nltk_data...\n",
            "       |   Unzipping corpora/shakespeare.zip.\n",
            "       | Downloading package stopwords to /content/nltk_data...\n",
            "       |   Unzipping corpora/stopwords.zip.\n",
            "       | Downloading package treebank to /content/nltk_data...\n",
            "       |   Unzipping corpora/treebank.zip.\n",
            "       | Downloading package twitter_samples to /content/nltk_data...\n",
            "       |   Unzipping corpora/twitter_samples.zip.\n",
            "       | Downloading package omw to /content/nltk_data...\n",
            "       |   Unzipping corpora/omw.zip.\n",
            "       | Downloading package wordnet to /content/nltk_data...\n",
            "       |   Unzipping corpora/wordnet.zip.\n",
            "       | Downloading package wordnet_ic to /content/nltk_data...\n",
            "       |   Unzipping corpora/wordnet_ic.zip.\n",
            "       | Downloading package words to /content/nltk_data...\n",
            "       |   Unzipping corpora/words.zip.\n",
            "       | Downloading package maxent_ne_chunker to\n",
            "       |     /content/nltk_data...\n",
            "       |   Unzipping chunkers/maxent_ne_chunker.zip.\n",
            "       | Downloading package punkt to /content/nltk_data...\n",
            "       |   Unzipping tokenizers/punkt.zip.\n",
            "       | Downloading package snowball_data to /content/nltk_data...\n",
            "       | Downloading package averaged_perceptron_tagger to\n",
            "       |     /content/nltk_data...\n",
            "       |   Unzipping taggers/averaged_perceptron_tagger.zip.\n",
            "       | \n",
            "     Done downloading collection popular\n",
            "\n",
            "---------------------------------------------------------------------------\n",
            "    d) Download   l) List    u) Update   c) Config   h) Help   q) Quit\n",
            "---------------------------------------------------------------------------\n",
            "Downloader> q\n"
          ],
          "name": "stdout"
        },
        {
          "output_type": "execute_result",
          "data": {
            "text/plain": [
              "True"
            ]
          },
          "metadata": {
            "tags": []
          },
          "execution_count": 5
        }
      ]
    },
    {
      "metadata": {
        "id": "__dDX209tu-K",
        "colab_type": "code",
        "colab": {
          "base_uri": "https://localhost:8080/",
          "height": 17
        },
        "outputId": "0584a5fa-93e7-43cf-eaf4-47ad2e6a5fd6"
      },
      "cell_type": "code",
      "source": [
        "def text_process(text):\n",
        "\n",
        "    '''\n",
        "    Takes in a string of text, then performs the following:\n",
        "    1. Remove all punctuation\n",
        "    2. Remove all stopwords\n",
        "    3. Return the cleaned text as a list of words\n",
        "    '''\n",
        "    nopunc = [char for char in text if char not in string.punctuation]\n",
        "    nopunc = ''.join(nopunc)\n",
        "    return [word for word in nopunc.split() if word.lower() not in stopwords.words('english')]"
      ],
      "execution_count": 6,
      "outputs": []
    },
    {
      "metadata": {
        "id": "mIEtvPmwSdXz",
        "colab_type": "code",
        "colab": {
          "base_uri": "https://localhost:8080/",
          "height": 0
        },
        "outputId": "19602703-bf8e-489f-8ee2-7f331ff0cbf0"
      },
      "cell_type": "code",
      "source": [
        "yelp = pd.read_csv('yelp_review.csv')\n",
        "yelp_class = yelp[(yelp['stars'] == 1) | (yelp['stars'] == 5)]\n",
        "yelp_new=yelp_class[0:100000]\n",
        "yelp_class=yelp_new\n",
        "X = yelp_class['text']\n",
        "y = yelp_class['stars']\n",
        "bow_transformer = TfidfVectorizer(analyzer=text_process).fit(X)\n",
        "X = bow_transformer.transform(X)\n",
        "X_train, X_test, y_train, y_test = train_test_split(X, y, test_size=0.3, random_state=101)\n",
        "nb = SVC(kernel='linear')\n",
        "nb.fit(X_train, y_train)\n",
        "preds = nb.predict(X_test)\n"
      ],
      "execution_count": 0,
      "outputs": []
    },
    {
      "metadata": {
        "id": "3H3tBrO5GFkT",
        "colab_type": "code",
        "colab": {
          "base_uri": "https://localhost:8080/",
          "height": 139
        },
        "outputId": "7e2eb9ab-e3b2-4a55-c659-d88124e103bf"
      },
      "cell_type": "code",
      "source": [
        "print(classification_report(y_test, preds))\n"
      ],
      "execution_count": 10,
      "outputs": [
        {
          "output_type": "stream",
          "text": [
            "             precision    recall  f1-score   support\n",
            "\n",
            "          1       0.86      0.88      0.87      7327\n",
            "          5       0.96      0.95      0.96     22673\n",
            "\n",
            "avg / total       0.94      0.94      0.94     30000\n",
            "\n"
          ],
          "name": "stdout"
        }
      ]
    },
    {
      "metadata": {
        "id": "sM7_Kk-IGaaK",
        "colab_type": "code",
        "colab": {
          "base_uri": "https://localhost:8080/",
          "height": 0
        },
        "outputId": "87dbcbcb-5b5d-467b-90fe-573631f184dd"
      },
      "cell_type": "code",
      "source": [
        "import pickle\n",
        "filename = 'finalized_model.sav'\n",
        "pickle.dump(nb, open(filename, 'wb'))"
      ],
      "execution_count": 11,
      "outputs": []
    },
    {
      "metadata": {
        "id": "nI58okAwGl-R",
        "colab_type": "code",
        "colab": {
          "base_uri": "https://localhost:8080/",
          "height": 0
        },
        "outputId": "88ca0b97-151f-4355-a1b8-e21005d2ae16"
      },
      "cell_type": "code",
      "source": [
        "from google.colab import files\n"
      ],
      "execution_count": 8,
      "outputs": []
    },
    {
      "metadata": {
        "id": "NR3BKeaxIPSJ",
        "colab_type": "code",
        "colab": {
          "base_uri": "https://localhost:8080/",
          "height": 0
        },
        "outputId": "9f3a352b-8839-4062-f01c-781ab2bb8ea1"
      },
      "cell_type": "code",
      "source": [
        "files.download('finalized_model.sav')"
      ],
      "execution_count": 0,
      "outputs": []
    },
    {
      "metadata": {
        "id": "X4TxOx1Q3tv-",
        "colab_type": "code",
        "colab": {
          "base_uri": "https://localhost:8080/",
          "height": 121
        },
        "outputId": "ec30bd48-0626-401f-9995-4a3e8ecebe01"
      },
      "cell_type": "code",
      "source": [
        "!ls"
      ],
      "execution_count": 9,
      "outputs": [
        {
          "output_type": "stream",
          "text": [
            "2I8MELW\t\t\t\t\t yelp_business_hours.csv\r\n",
            "datalab\t\t\t\t\t yelp_checkin.csv\r\n",
            "Dataset_Challenge_Dataset_Agreement.pdf  yelp_review.csv\r\n",
            "nltk_data\t\t\t\t yelp_tip.csv\r\n",
            "yelp_business_attributes.csv\t\t yelp_user.csv\r\n",
            "yelp_business.csv\r\n"
          ],
          "name": "stdout"
        }
      ]
    },
    {
      "metadata": {
        "id": "bhQzS-lSEBJX",
        "colab_type": "code",
        "colab": {}
      },
      "cell_type": "code",
      "source": [
        ""
      ],
      "execution_count": 0,
      "outputs": []
    }
  ]
}
